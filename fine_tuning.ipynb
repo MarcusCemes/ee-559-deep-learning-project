{
 "cells": [
  {
   "cell_type": "markdown",
   "metadata": {},
   "source": [
    "##### [UCBerkeley - Hate Speech Dataset (Multilabel)](https://huggingface.co/datasets/ucberkeley-dlab/measuring-hate-speech)\n"
   ]
  },
  {
   "cell_type": "code",
   "execution_count": 35,
   "metadata": {},
   "outputs": [
    {
     "data": {
      "text/html": [
       "<div>\n",
       "<style scoped>\n",
       "    .dataframe tbody tr th:only-of-type {\n",
       "        vertical-align: middle;\n",
       "    }\n",
       "\n",
       "    .dataframe tbody tr th {\n",
       "        vertical-align: top;\n",
       "    }\n",
       "\n",
       "    .dataframe thead th {\n",
       "        text-align: right;\n",
       "    }\n",
       "</style>\n",
       "<table border=\"1\" class=\"dataframe\">\n",
       "  <thead>\n",
       "    <tr style=\"text-align: right;\">\n",
       "      <th></th>\n",
       "      <th>text</th>\n",
       "      <th>sentiment</th>\n",
       "      <th>hatespeech</th>\n",
       "      <th>hate_speech_score</th>\n",
       "      <th>respect</th>\n",
       "      <th>insult</th>\n",
       "      <th>humiliate</th>\n",
       "      <th>status</th>\n",
       "      <th>dehumanize</th>\n",
       "      <th>violence</th>\n",
       "      <th>genocide</th>\n",
       "      <th>attack_defend</th>\n",
       "    </tr>\n",
       "  </thead>\n",
       "  <tbody>\n",
       "    <tr>\n",
       "      <th>0</th>\n",
       "      <td>Yes indeed. She sort of reminds me of the elde...</td>\n",
       "      <td>0.0</td>\n",
       "      <td>0.0</td>\n",
       "      <td>-3.90</td>\n",
       "      <td>0.0</td>\n",
       "      <td>0.0</td>\n",
       "      <td>0.0</td>\n",
       "      <td>2.0</td>\n",
       "      <td>0.0</td>\n",
       "      <td>0.0</td>\n",
       "      <td>0.0</td>\n",
       "      <td>0.0</td>\n",
       "    </tr>\n",
       "    <tr>\n",
       "      <th>1</th>\n",
       "      <td>The trans women reading this tweet right now i...</td>\n",
       "      <td>0.0</td>\n",
       "      <td>0.0</td>\n",
       "      <td>-6.52</td>\n",
       "      <td>0.0</td>\n",
       "      <td>0.0</td>\n",
       "      <td>0.0</td>\n",
       "      <td>2.0</td>\n",
       "      <td>0.0</td>\n",
       "      <td>0.0</td>\n",
       "      <td>0.0</td>\n",
       "      <td>2.0</td>\n",
       "    </tr>\n",
       "    <tr>\n",
       "      <th>2</th>\n",
       "      <td>Question: These 4 broads who criticize America...</td>\n",
       "      <td>4.0</td>\n",
       "      <td>2.0</td>\n",
       "      <td>0.36</td>\n",
       "      <td>4.0</td>\n",
       "      <td>4.0</td>\n",
       "      <td>4.0</td>\n",
       "      <td>4.0</td>\n",
       "      <td>4.0</td>\n",
       "      <td>0.0</td>\n",
       "      <td>0.0</td>\n",
       "      <td>4.0</td>\n",
       "    </tr>\n",
       "    <tr>\n",
       "      <th>3</th>\n",
       "      <td>It is about time for all illegals to go back t...</td>\n",
       "      <td>2.0</td>\n",
       "      <td>0.0</td>\n",
       "      <td>0.26</td>\n",
       "      <td>3.0</td>\n",
       "      <td>2.0</td>\n",
       "      <td>1.0</td>\n",
       "      <td>2.0</td>\n",
       "      <td>0.0</td>\n",
       "      <td>0.0</td>\n",
       "      <td>0.0</td>\n",
       "      <td>3.0</td>\n",
       "    </tr>\n",
       "    <tr>\n",
       "      <th>4</th>\n",
       "      <td>For starters bend over the one in pink and kic...</td>\n",
       "      <td>4.0</td>\n",
       "      <td>2.0</td>\n",
       "      <td>1.54</td>\n",
       "      <td>4.0</td>\n",
       "      <td>4.0</td>\n",
       "      <td>4.0</td>\n",
       "      <td>4.0</td>\n",
       "      <td>4.0</td>\n",
       "      <td>4.0</td>\n",
       "      <td>1.0</td>\n",
       "      <td>3.0</td>\n",
       "    </tr>\n",
       "  </tbody>\n",
       "</table>\n",
       "</div>"
      ],
      "text/plain": [
       "                                                text  sentiment  hatespeech  \\\n",
       "0  Yes indeed. She sort of reminds me of the elde...        0.0         0.0   \n",
       "1  The trans women reading this tweet right now i...        0.0         0.0   \n",
       "2  Question: These 4 broads who criticize America...        4.0         2.0   \n",
       "3  It is about time for all illegals to go back t...        2.0         0.0   \n",
       "4  For starters bend over the one in pink and kic...        4.0         2.0   \n",
       "\n",
       "   hate_speech_score  respect  insult  humiliate  status  dehumanize  \\\n",
       "0              -3.90      0.0     0.0        0.0     2.0         0.0   \n",
       "1              -6.52      0.0     0.0        0.0     2.0         0.0   \n",
       "2               0.36      4.0     4.0        4.0     4.0         4.0   \n",
       "3               0.26      3.0     2.0        1.0     2.0         0.0   \n",
       "4               1.54      4.0     4.0        4.0     4.0         4.0   \n",
       "\n",
       "   violence  genocide  attack_defend  \n",
       "0       0.0       0.0            0.0  \n",
       "1       0.0       0.0            2.0  \n",
       "2       0.0       0.0            4.0  \n",
       "3       0.0       0.0            3.0  \n",
       "4       4.0       1.0            3.0  "
      ]
     },
     "execution_count": 35,
     "metadata": {},
     "output_type": "execute_result"
    }
   ],
   "source": [
    "import pandas as pd \n",
    "import numpy as np\n",
    "\n",
    "# Read the measuring-hate-speech.parquet\n",
    "\n",
    "df = pd.read_parquet('measuring-hate-speech.parquet')\n",
    "#remove from df the redundant  columns\n",
    "multilabel_dataset = df.iloc[:, :-116]\n",
    "\n",
    "# Remove comment_idm,annotator_id,platform and put the column text in the first position\n",
    "multilabel_dataset = multilabel_dataset[['text','sentiment', 'hatespeech', 'hate_speech_score', 'respect','insult','humiliate','status','dehumanize','violence','genocide' ,'attack_defend']]\n",
    "multilabel_dataset.head(5)"
   ]
  },
  {
   "cell_type": "markdown",
   "metadata": {},
   "source": [
    "##### [Hate-Speech-Bert](https://huggingface.co/ctoraman/hate-speech-bert) Already fine-tuned on [\"0\": Neutral , 1\": Offensive, \"2\": Hate] dataset"
   ]
  },
  {
   "cell_type": "markdown",
   "metadata": {},
   "source": [
    "##### APPROACH:"
   ]
  },
  {
   "cell_type": "markdown",
   "metadata": {},
   "source": [
    "Further fine-tuning an already fine-tuned model(HATE-SPEECH-BERT) for multilabel classification to identify subcategories of hate speech requires us to assess whether there are improvements in accuracy, precision, recall (F1 score) by initially using a triple classification model for hate speech detection before fine-tuning for multilabel classification. Alternatively, it may be worthwhile to directly fine-tune the model(BERT-LARGE) for multilabel classification from the start"
   ]
  }
 ],
 "metadata": {
  "kernelspec": {
   "display_name": "Python 3",
   "language": "python",
   "name": "python3"
  },
  "language_info": {
   "codemirror_mode": {
    "name": "ipython",
    "version": 3
   },
   "file_extension": ".py",
   "mimetype": "text/x-python",
   "name": "python",
   "nbconvert_exporter": "python",
   "pygments_lexer": "ipython3",
   "version": "3.12.1"
  }
 },
 "nbformat": 4,
 "nbformat_minor": 2
}
